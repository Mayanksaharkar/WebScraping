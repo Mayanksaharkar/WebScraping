{
 "cells": [
  {
   "cell_type": "code",
   "id": "initial_id",
   "metadata": {
    "collapsed": true,
    "ExecuteTime": {
     "end_time": "2024-06-05T19:59:21.701788Z",
     "start_time": "2024-06-05T19:59:21.696438Z"
    }
   },
   "source": [
    "import requests\n",
    "from bs4 import BeautifulSoup\n",
    "import pandas as pd\n"
   ],
   "execution_count": 23,
   "outputs": []
  },
  {
   "metadata": {
    "ExecuteTime": {
     "end_time": "2024-06-05T19:59:21.725810Z",
     "start_time": "2024-06-05T19:59:21.716814Z"
    }
   },
   "cell_type": "code",
   "source": [
    "brands = ['Redmi', 'Samsung','Vivo','Oppo', 'Poco','Motorola','Google','Apple',\"Mi\",'Oneplus','Lava','Asus','Iqoo','Sony','']\n",
    "brand = \"Redmi\"\n",
    "base_url = \"https://www.flipkart.com/mobiles/pr?sid=tyy%2C4io&p%5B%5D=facets.brand%255B%255D%3D\"+brand+\"&param=1112&ctx=eyJjYXJkQ29udGV4dCI6eyJhdHRyaWJ1dGVzIjp7InRpdGxlIjp7Im11bHRpVmFsdWVkQXR0cmlidXRlIjp7ImtleSI6InRpdGxlIiwiaW5mZXJlbmNlVHlwZSI6IlRJVExFIiwidmFsdWVzIjpbIlJlYWxtZSBzbWFydHBobmVzIl0sInZhbHVlVHlwZSI6Ik1VTFRJX1ZBTFVFRCJ9fX19fX0%3D&wid=16.productCard.PMU_V2_15&sort=recency_desc\"\n",
    "\n",
    "df = pd.DataFrame(columns=['title','rating', 'price','desc','img'])\n"
   ],
   "id": "a0c3c64ae27fd582",
   "execution_count": 24,
   "outputs": []
  },
  {
   "metadata": {
    "ExecuteTime": {
     "end_time": "2024-06-05T19:59:21.751133Z",
     "start_time": "2024-06-05T19:59:21.735835Z"
    }
   },
   "cell_type": "code",
   "source": "page_links = []\n",
   "id": "f593e9d1b93a268",
   "execution_count": 25,
   "outputs": []
  },
  {
   "metadata": {
    "ExecuteTime": {
     "end_time": "2024-06-05T19:59:22.674436Z",
     "start_time": "2024-06-05T19:59:21.751133Z"
    }
   },
   "cell_type": "code",
   "source": [
    "response = requests.get(base_url)\n",
    "soup = BeautifulSoup(response.text, 'html.parser')\n",
    "\n",
    "img_element = soup.find('img', attrs={'class': 'DByuf4'})\n",
    "img = img_element['src'] if img_element  else None\n",
    "\n",
    "print(img)\n",
    "\n"
   ],
   "id": "7b9e85aa3298c28b",
   "execution_count": 26,
   "outputs": []
  },
  {
   "metadata": {
    "ExecuteTime": {
     "end_time": "2024-06-05T19:59:31.880538Z",
     "start_time": "2024-06-05T19:59:22.674436Z"
    }
   },
   "cell_type": "code",
   "source": [
    "data = soup.find_all('a', attrs={'class': 'cn++Ap'})\n",
    "for page in data:\n",
    "    page_links.append(\"https://www.flipkart.com\"+page.attrs['href'])\n",
    "\n",
    "for link in page_links:\n",
    "    response = requests.get(link)\n",
    "    soup = BeautifulSoup(response.text, 'html.parser')\n",
    "    products= soup.find_all('div', attrs={'class': 'tUxRFH'})\n",
    "    for product in products:\n",
    "        img_element = product.find('img', attrs={'class': 'DByuf4'})\n",
    "        img = img_element['src'] if img_element  else None\n",
    "\n",
    "        title_element = product.find('div', attrs={'class': 'KzDlHZ'})\n",
    "        title = title_element.get_text(\" \") if title_element else None\n",
    "\n",
    "        element = product.find('div', attrs={'class': \"XQDdHH\"})\n",
    "        rating = element.get_text(\" \") if element else None\n",
    "\n",
    "        price_element = product.find('div', attrs={'class': 'Nx9bqj _4b5DiR'})\n",
    "        price = price_element.get_text(\" \") if price_element else None\n",
    "        desc = product.find_all('li', attrs={'class': 'J+igdf'}) \n",
    "        desc_list =[]\n",
    "\n",
    "        for description in desc:\n",
    "            \n",
    "            desc_ele = description.get_text(\" \")\n",
    "            desc_list.append(desc_ele)\n",
    "\n",
    "        dict1 = {'title':title ,'rating':rating,'price':price,'desc':desc_list , 'img':img}\n",
    "        # print(dict1)\n",
    "        df = df._append(dict1, ignore_index=True)\n",
    "\n",
    "print(df)\n",
    "df.to_csv(brand+\".csv\")\n",
    "\n"
   ],
   "id": "31fcf886e0d09783",
   "execution_count": 27,
   "outputs": []
  }
 ],
 "metadata": {
  "kernelspec": {
   "display_name": "Python 3",
   "language": "python",
   "name": "python3"
  },
  "language_info": {
   "codemirror_mode": {
    "name": "ipython",
    "version": 2
   },
   "file_extension": ".py",
   "mimetype": "text/x-python",
   "name": "python",
   "nbconvert_exporter": "python",
   "pygments_lexer": "ipython2",
   "version": "2.7.6"
  }
 },
 "nbformat": 4,
 "nbformat_minor": 5
}
