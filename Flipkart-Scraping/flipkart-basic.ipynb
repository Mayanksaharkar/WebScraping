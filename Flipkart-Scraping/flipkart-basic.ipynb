{
 "cells": [
  {
   "cell_type": "code",
   "id": "initial_id",
   "metadata": {
    "collapsed": true,
    "ExecuteTime": {
     "end_time": "2024-06-05T15:39:05.609990Z",
     "start_time": "2024-06-05T15:39:04.699561Z"
    }
   },
   "source": [
    "import requests\n",
    "from bs4 import BeautifulSoup\n",
    "import numpy as np\n",
    "import pandas as pd"
   ],
   "outputs": [],
   "execution_count": 1
  },
  {
   "metadata": {
    "ExecuteTime": {
     "end_time": "2024-06-05T15:39:06.739582Z",
     "start_time": "2024-06-05T15:39:05.612004Z"
    }
   },
   "cell_type": "code",
   "source": [
    "url = \"https://www.flipkart.com/search?q=mobiles+5g&sid=tyy%2C4io&as=on&as-show=on&otracker=AS_QueryStore_OrganicAutoSuggest_1_7_na_na_na&otracker1=AS_QueryStore_OrganicAutoSuggest_1_7_na_na_na&as-pos=1&as-type=RECENT&suggestionId=mobiles+5g%7CMobiles&requestId=88828989-a8a1-4085-8a9b-719e17d573c7&as-backfill=on&page=1\"\n",
    "\n",
    "response = requests.get(url)\n",
    "soup = BeautifulSoup(response.text, 'html.parser')\n"
   ],
   "id": "b6d3744d7aae8662",
   "outputs": [],
   "execution_count": 2
  },
  {
   "metadata": {
    "ExecuteTime": {
     "end_time": "2024-06-05T15:39:06.749738Z",
     "start_time": "2024-06-05T15:39:06.741603Z"
    }
   },
   "cell_type": "code",
   "source": "df = pd.DataFrame(columns=['title', 'description', 'price', 'img', 'rating'])",
   "id": "bea97437aa882825",
   "outputs": [],
   "execution_count": 3
  },
  {
   "metadata": {
    "ExecuteTime": {
     "end_time": "2024-06-05T15:39:06.772157Z",
     "start_time": "2024-06-05T15:39:06.749738Z"
    }
   },
   "cell_type": "code",
   "source": "products = soup.find_all('div', attrs={'class':\"tUxRFH\"} , limit=99)",
   "id": "42cbd36b4fb49c52",
   "outputs": [],
   "execution_count": 4
  },
  {
   "metadata": {
    "ExecuteTime": {
     "end_time": "2024-06-05T15:39:06.846087Z",
     "start_time": "2024-06-05T15:39:06.773166Z"
    }
   },
   "cell_type": "code",
   "source": [
    "for product in products:\n",
    "    img = product.find('img', attrs={'class':\"DByuf4\"}).get('src')\n",
    "    # print(img)\n",
    "\n",
    "    title = product.find('div', attrs={'class':\"KzDlHZ\"}).get_text()\n",
    "    # print(title)\n",
    "\n",
    "    rating = product.find('div', attrs={'class':\"XQDdHH\"}).get_text()\n",
    "    # print(rating)\n",
    "    \n",
    "\n",
    "    price = product.find('div', attrs={'class':\"Nx9bqj _4b5DiR\"}).get_text()\n",
    "    # print(price)\n",
    "\n",
    "    desc = product.find('ul', attrs={'class':\"G4BRas\"}).get_text(\"\\n\")\n",
    "    # print(desc)\n",
    "\n",
    "    values = {\n",
    "        'title': title,\n",
    "        'description': desc,\n",
    "        'price': price,\n",
    "        'img': img,\n",
    "        'rating': rating\n",
    "    }\n",
    "\n",
    "\n",
    "    df = df._append(values, ignore_index=True)\n",
    "\n",
    "df.head()\n",
    "df.to_csv('flipkart.csv')"
   ],
   "id": "fd707a8f783c3927",
   "outputs": [],
   "execution_count": 5
  }
 ],
 "metadata": {
  "kernelspec": {
   "display_name": "Python 3",
   "language": "python",
   "name": "python3"
  },
  "language_info": {
   "codemirror_mode": {
    "name": "ipython",
    "version": 2
   },
   "file_extension": ".py",
   "mimetype": "text/x-python",
   "name": "python",
   "nbconvert_exporter": "python",
   "pygments_lexer": "ipython2",
   "version": "2.7.6"
  }
 },
 "nbformat": 4,
 "nbformat_minor": 5
}
